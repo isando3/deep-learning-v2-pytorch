{
 "cells": [
  {
   "cell_type": "markdown",
   "metadata": {},
   "source": [
    "# Neural networks with PyTorch\n",
    "\n",
    "Deep learning networks tend to be massive with dozens or hundreds of layers, that's where the term \"deep\" comes from. You can build one of these deep networks using only weight matrices as we did in the previous notebook, but in general it's very cumbersome and difficult to implement. PyTorch has a nice module `nn` that provides a nice way to efficiently build large neural networks."
   ]
  },
  {
   "cell_type": "code",
   "execution_count": 1,
   "metadata": {},
   "outputs": [],
   "source": [
    "# Import necessary packages\n",
    "\n",
    "%matplotlib inline\n",
    "%config InlineBackend.figure_format = 'retina'\n",
    "\n",
    "import numpy as np\n",
    "import torch\n",
    "\n",
    "import helper\n",
    "\n",
    "import matplotlib.pyplot as plt"
   ]
  },
  {
   "cell_type": "markdown",
   "metadata": {},
   "source": [
    "\n",
    "Now we're going to build a larger network that can solve a (formerly) difficult problem, identifying text in an image. Here we'll use the MNIST dataset which consists of greyscale handwritten digits. Each image is 28x28 pixels, you can see a sample below\n",
    "\n",
    "<img src='assets/mnist.png'>\n",
    "\n",
    "Our goal is to build a neural network that can take one of these images and predict the digit in the image.\n",
    "\n",
    "First up, we need to get our dataset. This is provided through the `torchvision` package. The code below will download the MNIST dataset, then create training and test datasets for us. Don't worry too much about the details here, you'll learn more about this later."
   ]
  },
  {
   "cell_type": "code",
   "execution_count": 2,
   "metadata": {},
   "outputs": [
    {
     "name": "stderr",
     "output_type": "stream",
     "text": [
      "\r",
      "0it [00:00, ?it/s]"
     ]
    },
    {
     "name": "stdout",
     "output_type": "stream",
     "text": [
      "Downloading http://yann.lecun.com/exdb/mnist/train-images-idx3-ubyte.gz to /Users/idsandovalg/.pytorch/MNIST_data/MNIST/raw/train-images-idx3-ubyte.gz\n"
     ]
    },
    {
     "name": "stderr",
     "output_type": "stream",
     "text": [
      "9920512it [00:03, 3061649.18it/s]                             \n"
     ]
    },
    {
     "name": "stdout",
     "output_type": "stream",
     "text": [
      "Extracting /Users/idsandovalg/.pytorch/MNIST_data/MNIST/raw/train-images-idx3-ubyte.gz\n"
     ]
    },
    {
     "name": "stderr",
     "output_type": "stream",
     "text": [
      "\r",
      "0it [00:00, ?it/s]"
     ]
    },
    {
     "name": "stdout",
     "output_type": "stream",
     "text": [
      "Downloading http://yann.lecun.com/exdb/mnist/train-labels-idx1-ubyte.gz to /Users/idsandovalg/.pytorch/MNIST_data/MNIST/raw/train-labels-idx1-ubyte.gz\n"
     ]
    },
    {
     "name": "stderr",
     "output_type": "stream",
     "text": [
      "32768it [00:00, 94932.86it/s]                            \n",
      "0it [00:00, ?it/s]"
     ]
    },
    {
     "name": "stdout",
     "output_type": "stream",
     "text": [
      "Extracting /Users/idsandovalg/.pytorch/MNIST_data/MNIST/raw/train-labels-idx1-ubyte.gz\n",
      "Downloading http://yann.lecun.com/exdb/mnist/t10k-images-idx3-ubyte.gz to /Users/idsandovalg/.pytorch/MNIST_data/MNIST/raw/t10k-images-idx3-ubyte.gz\n"
     ]
    },
    {
     "name": "stderr",
     "output_type": "stream",
     "text": [
      "1654784it [00:01, 1151629.12it/s]                            \n",
      "0it [00:00, ?it/s]"
     ]
    },
    {
     "name": "stdout",
     "output_type": "stream",
     "text": [
      "Extracting /Users/idsandovalg/.pytorch/MNIST_data/MNIST/raw/t10k-images-idx3-ubyte.gz\n",
      "Downloading http://yann.lecun.com/exdb/mnist/t10k-labels-idx1-ubyte.gz to /Users/idsandovalg/.pytorch/MNIST_data/MNIST/raw/t10k-labels-idx1-ubyte.gz\n"
     ]
    },
    {
     "name": "stderr",
     "output_type": "stream",
     "text": [
      "8192it [00:00, 41535.89it/s]            "
     ]
    },
    {
     "name": "stdout",
     "output_type": "stream",
     "text": [
      "Extracting /Users/idsandovalg/.pytorch/MNIST_data/MNIST/raw/t10k-labels-idx1-ubyte.gz\n",
      "Processing...\n",
      "Done!\n"
     ]
    },
    {
     "name": "stderr",
     "output_type": "stream",
     "text": [
      "\n"
     ]
    }
   ],
   "source": [
    "### Run this cell\n",
    "\n",
    "from torchvision import datasets, transforms\n",
    "\n",
    "# Define a transform to normalize the data\n",
    "transform = transforms.Compose([transforms.ToTensor(),\n",
    "                              transforms.Normalize((0.5,), (0.5,)),\n",
    "                              ])\n",
    "\n",
    "# Download and load the training data\n",
    "trainset = datasets.MNIST('~/.pytorch/MNIST_data/', download=True, train=True, transform=transform)\n",
    "trainloader = torch.utils.data.DataLoader(trainset, batch_size=64, shuffle=True)"
   ]
  },
  {
   "cell_type": "markdown",
   "metadata": {},
   "source": [
    "We have the training data loaded into `trainloader` and we make that an iterator with `iter(trainloader)`. Later, we'll use this to loop through the dataset for training, like\n",
    "\n",
    "```python\n",
    "for image, label in trainloader:\n",
    "    ## do things with images and labels\n",
    "```\n",
    "\n",
    "You'll notice I created the `trainloader` with a batch size of 64, and `shuffle=True`. The batch size is the number of images we get in one iteration from the data loader and pass through our network, often called a *batch*. And `shuffle=True` tells it to shuffle the dataset every time we start going through the data loader again. But here I'm just grabbing the first batch so we can check out the data. We can see below that `images` is just a tensor with size `(64, 1, 28, 28)`. So, 64 images per batch, 1 color channel, and 28x28 images."
   ]
  },
  {
   "cell_type": "code",
   "execution_count": 3,
   "metadata": {},
   "outputs": [
    {
     "name": "stdout",
     "output_type": "stream",
     "text": [
      "<class 'torch.Tensor'>\n",
      "torch.Size([64, 1, 28, 28])\n",
      "torch.Size([64])\n"
     ]
    }
   ],
   "source": [
    "dataiter = iter(trainloader)\n",
    "images, labels = dataiter.next()\n",
    "print(type(images))\n",
    "print(images.shape)\n",
    "print(labels.shape)"
   ]
  },
  {
   "cell_type": "markdown",
   "metadata": {},
   "source": [
    "This is what one of the images looks like. "
   ]
  },
  {
   "cell_type": "code",
   "execution_count": 4,
   "metadata": {},
   "outputs": [
    {
     "data": {
      "image/png": "[encoded data removed]",
      "text/plain": [
       "<Figure size 432x288 with 1 Axes>"
      ]
     },
     "metadata": {
      "image/png": {
       "height": 250,
       "width": 253
      },
      "needs_background": "light"
     },
     "output_type": "display_data"
    }
   ],
   "source": [
    "plt.imshow(images[1].numpy().squeeze(), cmap='Greys_r');"
   ]
  },
  {
   "cell_type": "markdown",
   "metadata": {},
   "source": [
    "First, let's try to build a simple network for this dataset using weight matrices and matrix multiplications. Then, we'll see how to do it using PyTorch's `nn` module which provides a much more convenient and powerful method for defining network architectures.\n",
    "\n",
    "The networks you've seen so far are called *fully-connected* or *dense* networks. Each unit in one layer is connected to each unit in the next layer. In fully-connected networks, the input to each layer must be a one-dimensional vector (which can be stacked into a 2D tensor as a batch of multiple examples). However, our images are 28x28 2D tensors, so we need to convert them into 1D vectors. Thinking about sizes, we need to convert the batch of images with shape `(64, 1, 28, 28)` to a have a shape of `(64, 784)`, 784 is 28 times 28. This is typically called *flattening*, we flattened the 2D images into 1D vectors.\n",
    "\n",
    "Previously you built a network with one output unit. Here we need 10 output units, one for each digit. We want our network to predict the digit shown in an image, so what we'll do is calculate probabilities that the image is of any one digit or class. This ends up being a discrete probability distribution over the classes (digits) that tells us the most likely class for the image. That means we need 10 output units for the 10 classes (digits). We'll see how to convert the network output into a probability distribution next.\n",
    "\n",
    "> **Exercise:** Flatten the batch of images `images`. Then build a multi-layer network with 784 input units, 256 hidden units, and 10 output units using random tensors for the weights and biases. For now, use a sigmoid activation for the hidden layer. Leave the output layer without an activation, we'll add one that gives us a probability distribution next."
   ]
  },
  {
   "cell_type": "code",
   "execution_count": 7,
   "metadata": {
    "scrolled": false
   },
   "outputs": [
    {
     "name": "stdout",
     "output_type": "stream",
     "text": [
      "torch.Size([64, 784])\n",
      "tensor([[ 1.4978e+01, -5.1568e+00, -1.6589e+01,  7.3204e+00, -2.1113e+01,\n",
      "          4.5583e+00, -8.8413e+00,  3.3101e+00, -1.1360e+01, -1.4995e+01],\n",
      "        [ 1.8694e+01, -5.8379e+00, -6.0076e+00,  1.0125e+01, -1.7485e+01,\n",
      "         -6.6382e+00, -5.2292e+00,  6.4833e+00, -7.3167e+00, -1.0250e+01],\n",
      "        [ 1.7454e+01, -5.6360e+00, -1.0559e+01,  2.0024e+01, -1.8853e+01,\n",
      "         -1.4284e+01, -1.0904e+01,  4.7191e+00, -5.8016e+00, -8.8323e+00],\n",
      "        [ 2.1989e+01, -1.0520e+01, -2.9132e+00, -4.5457e-01, -1.9009e+01,\n",
      "         -4.6795e+00, -9.4612e+00,  2.7440e+00, -5.3603e+00, -2.5646e+01],\n",
      "        [ 2.0838e+01, -1.0187e+01, -9.4216e+00,  7.0928e+00, -2.0796e+01,\n",
      "         -5.2346e+00, -8.4249e+00,  1.4723e+00, -1.0715e+01, -1.2108e+01],\n",
      "        [ 1.4568e+01, -2.6530e+00, -3.0086e+00,  4.2475e+00, -5.9539e+00,\n",
      "         -7.7137e+00, -2.6652e+00,  1.6780e+01, -3.6084e+00, -1.9322e+01],\n",
      "        [ 1.4284e+01, -8.0550e+00, -1.1188e+01,  1.2769e+01, -3.4415e+01,\n",
      "         -2.9280e+00, -2.1523e+00,  4.0937e+00,  1.9332e+00, -1.5852e+01],\n",
      "        [ 1.1908e+01, -6.4150e+00, -4.6887e+00,  1.1630e+01, -2.8203e+01,\n",
      "         -8.9461e+00, -1.4061e+01,  3.6709e+00, -1.3646e+01, -1.7824e+01],\n",
      "        [ 2.3478e+01,  4.1957e+00, -1.6456e+01,  9.8590e+00, -2.2073e+01,\n",
      "          2.7594e+00, -5.6698e+00,  3.9953e+00,  3.1376e+00, -9.4640e+00],\n",
      "        [ 1.9919e+01, -3.9736e+00, -1.5821e+01,  1.1114e+01, -2.0030e+01,\n",
      "          1.3356e+00, -1.6171e+01,  6.0642e+00, -8.5729e+00, -1.4113e+01],\n",
      "        [ 1.2625e+01, -4.5194e+00, -1.6200e+01,  1.4154e+01, -3.0579e+01,\n",
      "         -1.2107e+00, -5.2209e+00,  1.5873e+00, -1.1637e+01, -2.2520e+01],\n",
      "        [ 1.3827e+01, -3.0158e+00, -1.6365e+01,  2.1304e-01, -2.4537e+01,\n",
      "         -4.1114e+00, -1.0584e+01,  2.1061e+00, -9.2789e+00, -1.5242e+01],\n",
      "        [ 2.2525e+01, -8.0447e+00, -1.4382e+01,  9.1374e+00, -1.9529e+01,\n",
      "         -6.9843e+00,  4.3406e+00,  7.3417e+00, -8.2069e+00, -1.7127e+01],\n",
      "        [ 2.4146e+01, -1.3912e+00, -1.3528e+01,  1.7906e+01, -1.8627e+01,\n",
      "         -7.1492e-01, -8.9821e+00,  9.9309e+00, -1.5346e+00, -1.6148e+01],\n",
      "        [ 1.6490e+01, -2.7646e+00, -1.4931e+01,  9.2068e+00, -1.8616e+01,\n",
      "         -7.5706e+00,  1.0842e+00,  7.8000e+00, -1.9802e+00, -1.9397e+01],\n",
      "        [ 1.3143e+01, -3.9117e+00,  1.6005e+00,  5.3508e+00, -1.9473e+01,\n",
      "         -2.8826e+00, -3.3709e+00, -2.6084e+00, -8.5739e+00, -1.7051e+01],\n",
      "        [ 1.2226e+01, -1.3807e+01, -7.1585e+00,  4.5143e+00, -1.6455e+01,\n",
      "         -3.3649e+00, -1.3386e+01,  1.8574e+00, -6.6483e+00, -2.2163e+01],\n",
      "        [ 1.4862e+01, -2.9648e+00, -1.1772e+01,  4.8388e+00, -2.1539e+01,\n",
      "         -1.2508e+01, -4.0815e+00,  1.0196e+01, -1.6607e+00, -1.9378e+01],\n",
      "        [ 5.8496e+00, -8.4302e+00, -8.4504e+00,  1.9046e+01, -2.0960e+01,\n",
      "         -8.1509e+00, -7.7526e+00,  7.8807e-01, -1.9187e+01, -2.0173e+01],\n",
      "        [ 1.4729e+01, -1.0636e+01, -8.5826e+00,  1.4807e+01, -2.4298e+01,\n",
      "          2.0721e+00, -6.5376e+00, -2.1720e+00, -1.2350e+01, -8.2993e+00],\n",
      "        [ 1.5155e+01,  1.8779e+00, -7.0225e+00,  9.0021e+00, -1.7237e+01,\n",
      "          3.2763e+00,  1.3918e+00,  3.0528e+00, -4.3994e+00, -1.1776e+01],\n",
      "        [ 2.2469e+01, -8.0124e+00, -7.3027e+00,  7.6018e+00, -2.0811e+01,\n",
      "         -6.7305e+00, -8.9108e-02,  3.9092e+00,  1.0308e+00, -1.6357e+01],\n",
      "        [ 1.9124e+01, -6.3743e+00, -1.4059e+01,  7.0951e+00, -2.1441e+01,\n",
      "         -4.2214e+00, -1.4719e+00,  6.4072e+00, -1.0462e+01, -1.2806e+01],\n",
      "        [ 1.5217e+01, -6.0233e+00, -1.3301e+01,  9.4290e+00, -2.3257e+01,\n",
      "         -1.0493e+01, -3.6946e+00,  1.1100e+00, -5.0982e+00, -2.0924e+01],\n",
      "        [ 1.2132e+01,  4.4527e-01, -9.1557e+00,  2.6661e+00, -1.8177e+01,\n",
      "         -2.3394e+00, -3.1103e+00,  1.0968e+00, -1.0058e+01, -1.8097e+01],\n",
      "        [ 7.8627e+00, -1.0873e+01, -1.2782e+01,  1.0475e+01, -2.7160e+01,\n",
      "         -7.5730e+00, -9.1077e+00,  8.7269e+00, -6.2605e+00, -1.7872e+01],\n",
      "        [ 1.8066e+01, -6.0160e+00, -1.1546e+01,  4.9935e+00, -2.0146e+01,\n",
      "         -1.7222e+00, -2.3191e-01,  8.7109e+00, -6.1633e+00, -1.8406e+01],\n",
      "        [ 1.9845e+01, -1.3438e+01, -1.3286e+01,  9.1388e+00, -2.4516e+01,\n",
      "         -4.1190e+00, -7.3764e+00,  3.6572e+00,  1.5217e+00, -2.1654e+01],\n",
      "        [ 1.2419e+01, -4.9898e+00, -6.6852e+00,  1.4662e+01, -2.0806e+01,\n",
      "          2.0755e+00, -9.2122e+00, -2.1290e+00,  1.6779e+00, -1.6331e+01],\n",
      "        [ 1.9741e+01, -7.5323e+00, -1.3746e+01,  1.0586e+01, -1.7484e+01,\n",
      "         -1.5547e+00, -8.3456e+00, -3.4440e+00,  7.3195e-01, -1.1915e+01],\n",
      "        [ 1.6431e+01, -1.3674e+00, -4.3030e+00,  1.3406e+01, -2.4987e+01,\n",
      "         -1.1352e+01, -2.0544e+00, -2.6185e+00, -1.7067e+00, -8.9151e+00],\n",
      "        [ 1.9988e+01, -1.4605e+00, -7.4958e+00,  1.2945e+00, -1.8250e+01,\n",
      "         -7.6538e+00, -1.4918e+01,  1.4142e+01, -1.3518e+01, -1.7042e+01],\n",
      "        [ 1.4785e+01, -5.8248e+00, -1.7450e+01,  1.3364e+01, -2.1728e+01,\n",
      "         -4.1670e+00,  5.1647e+00,  5.0292e+00,  2.6695e-01, -1.2087e+01],\n",
      "        [ 2.1749e+01, -5.6700e+00, -1.8945e+00,  1.1507e+01, -1.5085e+01,\n",
      "         -3.5422e+00, -1.4692e+01,  9.7401e-01, -6.1766e+00, -1.5177e+01],\n",
      "        [ 1.3199e+01, -3.6870e+00, -8.9474e+00,  1.0810e+01, -2.0825e+01,\n",
      "         -6.9784e+00, -1.4113e+01,  1.3948e+00, -1.3820e+00, -2.0846e+01],\n",
      "        [ 9.7607e+00, -1.5955e+01, -8.9850e+00, -1.1804e-01, -1.8381e+01,\n",
      "         -3.7805e+00, -8.8542e+00, -1.9987e+00, -6.9499e+00, -1.8656e+01],\n",
      "        [ 1.3788e+01, -6.3161e+00, -1.1682e+01,  3.1353e+00, -2.3527e+01,\n",
      "         -8.2569e+00, -8.1196e+00,  1.1393e+00, -6.3060e+00, -2.0128e+01],\n",
      "        [ 1.4713e+01, -4.9460e+00, -6.6745e+00,  2.0421e+01, -2.3858e+01,\n",
      "         -2.6890e+00, -4.9844e+00, -3.1348e+00, -6.0254e+00, -3.8683e+00],\n",
      "        [ 1.6817e+01, -3.2818e+00, -9.6195e+00,  1.4373e+01, -2.0452e+01,\n",
      "         -9.3799e-01, -1.1243e+01,  1.1239e+01, -7.9281e+00, -1.6475e+01],\n",
      "        [ 1.5982e+01, -7.6478e+00, -1.0206e+01,  1.2548e+01, -2.7386e+01,\n",
      "         -1.3169e+01, -1.2544e+00,  3.1708e+00, -7.0240e+00, -2.0639e+01],\n",
      "        [ 2.1471e+01, -1.0784e+01, -5.5106e+00,  4.1705e+00, -1.8457e+01,\n",
      "         -2.7966e+00, -6.5832e+00,  4.5725e+00,  6.2606e-01, -1.8421e+01],\n",
      "        [ 2.5044e+01, -8.9544e+00, -1.6195e+01,  8.3279e+00, -2.0321e+01,\n",
      "         -1.6999e+00, -7.7277e+00,  9.3890e+00, -7.5478e+00, -1.7623e+01],\n",
      "        [ 9.4326e+00, -1.2854e+01, -9.7290e+00,  5.5290e+00, -1.0643e+01,\n",
      "         -9.8839e+00, -1.3147e+01,  9.3281e-01, -5.3956e+00, -2.7293e+01],\n",
      "        [ 1.2300e+01, -5.5471e+00, -1.8315e+01,  1.6705e+00, -2.7305e+01,\n",
      "         -1.6728e+00, -1.0663e+01,  3.8960e+00, -8.0005e+00, -1.2167e+01],\n",
      "        [ 1.9553e+01, -1.1036e+01, -1.3837e+01,  1.5521e+01, -2.1090e+01,\n",
      "         -8.6595e+00, -3.0174e+00, -9.6022e-01, -7.9883e+00, -1.0020e+01],\n",
      "        [ 1.5036e+01, -6.5204e+00, -1.8023e+01,  1.4394e+01, -2.5472e+01,\n",
      "          1.7549e+00,  3.7998e+00,  7.6853e+00, -3.7434e+00, -1.7591e+01],\n",
      "        [ 8.8152e+00, -5.5878e+00, -7.6687e+00,  7.1436e+00, -2.7185e+01,\n",
      "          6.1026e+00, -6.2288e-01, -3.6380e+00, -6.9768e-03, -1.4044e+01],\n",
      "        [ 1.8026e+01, -6.7909e+00, -5.5509e+00,  4.1016e+00, -2.0254e+01,\n",
      "         -1.7565e+00, -7.3103e+00,  7.0686e-01, -7.4442e+00, -1.5477e+01],\n",
      "        [ 1.7928e+01, -5.8178e+00, -6.7821e+00,  7.3483e+00, -2.4622e+01,\n",
      "         -4.1293e+00, -4.9014e+00, -5.3942e+00, -1.3062e+01, -1.1586e+01],\n",
      "        [ 1.3752e+01, -5.3097e+00, -1.6279e+01,  1.3855e+01, -2.4379e+01,\n",
      "         -4.1004e+00, -9.5386e-01,  3.1680e+00, -1.4028e+01, -1.3464e+01],\n",
      "        [ 1.8296e+01, -4.0730e+00, -1.4104e+01,  2.1871e+00, -2.2047e+01,\n",
      "         -3.8202e+00, -2.2950e+00,  1.8467e+00, -6.7496e+00, -1.7551e+01],\n",
      "        [ 2.5030e+01, -3.1292e+00, -1.4854e+01,  1.0586e+01, -3.9605e+01,\n",
      "          3.0384e-01, -6.5526e+00,  4.2222e+00, -2.3118e+00, -2.1772e+01],\n",
      "        [ 1.6922e+01, -5.2622e+00, -1.5839e+01,  7.1978e+00, -1.4003e+01,\n",
      "         -1.1857e+00, -5.0513e+00,  4.9810e-02, -4.7057e+00, -1.1477e+01],\n",
      "        [ 2.4609e+01, -2.6453e+00, -9.7674e+00, -1.2292e-01, -1.7772e+01,\n",
      "         -2.6202e-01, -1.0893e+01,  1.0024e+01, -1.8391e+00, -1.3697e+01],\n",
      "        [ 2.2941e+01, -4.6370e+00, -1.7872e+01,  1.1906e+01, -2.1332e+01,\n",
      "         -1.1891e+00, -3.9718e+00,  5.4026e+00, -5.7889e+00, -8.7208e+00],\n",
      "        [ 2.0595e+01,  4.8283e+00, -1.2987e+01,  2.3942e+00, -2.7606e+01,\n",
      "         -5.0755e+00, -1.5963e+01,  6.4190e+00, -8.5577e+00, -1.6932e+01],\n",
      "        [ 1.2297e+01, -1.0248e+01, -1.6607e+01,  6.5380e+00, -2.3916e+01,\n",
      "          4.3600e+00, -7.2955e+00, -2.1622e+00, -4.4853e+00, -1.4653e+01],\n",
      "        [ 2.1384e+01, -1.3436e+01, -1.6162e+01,  4.3048e-01, -2.5259e+01,\n",
      "         -2.6224e+00, -7.9164e+00,  1.3776e+00, -1.0179e+01, -2.5563e+01],\n",
      "        [ 1.8856e+01, -6.2360e+00, -7.8309e+00,  1.6100e+01, -2.6674e+01,\n",
      "          4.0254e+00, -7.1722e-02,  3.6277e+00, -6.6157e+00, -2.0995e+01],\n",
      "        [ 1.6887e+01, -3.0916e-02, -7.9191e+00,  1.3638e+01, -1.6632e+01,\n",
      "          2.4144e+00, -1.1682e+01,  4.6009e+00, -1.3578e+01, -2.0561e+01],\n",
      "        [ 2.2119e+01, -1.8826e+00, -1.4858e+01,  8.1284e+00, -1.8898e+01,\n",
      "          4.1393e+00, -4.5832e+00,  4.7864e+00, -1.0839e+01, -1.7379e+01],\n",
      "        [ 1.5971e+01, -3.9613e+00, -1.4065e+01,  1.3041e+00, -2.0739e+01,\n",
      "         -9.9906e+00, -1.0067e+01,  1.6706e+00, -4.7147e+00, -1.6280e+01],\n",
      "        [ 1.4686e+01, -8.4550e+00, -2.2514e+01,  9.2724e+00, -2.3537e+01,\n",
      "         -7.1223e-01,  2.6024e+00, -1.2579e-01, -5.8093e+00, -1.2228e+01],\n",
      "        [ 1.8947e+01, -1.1147e+01, -4.9193e+00,  5.0480e+00, -1.9669e+01,\n",
      "         -3.2022e+00, -2.0574e+00, -5.3645e-01, -1.2312e+01, -1.0261e+01]]) torch.Size([64, 10])\n"
     ]
    }
   ],
   "source": [
    "## Your solution\n",
    "#activation sigmoid\n",
    "def activation(x):\n",
    "    return 1/(1+torch.exp(-x))\n",
    "\n",
    "#flatten\n",
    "image_flat = images.view(64,784)\n",
    "print (image_flat.shape)\n",
    "\n",
    "#random weights and biases\n",
    "W1 = torch.randn(784,256)\n",
    "B1 = torch.randn(256)\n",
    "\n",
    "W2 = torch.randn(256,10)\n",
    "B2 = torch.randn(10)\n",
    "\n",
    "h = activation (image_flat.mm(W1)+B1)\n",
    "out = h.mm(W2) + B2\n",
    "print(out, out.shape)"
   ]
  },
  {
   "cell_type": "markdown",
   "metadata": {},
   "source": [
    "Now we have 10 outputs for our network. We want to pass in an image to our network and get out a probability distribution over the classes that tells us the likely class(es) the image belongs to. Something that looks like this:\n",
    "<img src='assets/image_distribution.png' width=500px>\n",
    "\n",
    "Here we see that the probability for each class is roughly the same. This is representing an untrained network, it hasn't seen any data yet so it just returns a uniform distribution with equal probabilities for each class.\n",
    "\n",
    "To calculate this probability distribution, we often use the [**softmax** function](https://en.wikipedia.org/wiki/Softmax_function). Mathematically this looks like\n",
    "\n",
    "$$\n",
    "\\Large \\sigma(x_i) = \\cfrac{e^{x_i}}{\\sum_k^K{e^{x_k}}}\n",
    "$$\n",
    "\n",
    "What this does is squish each input $x_i$ between 0 and 1 and normalizes the values to give you a proper probability distribution where the probabilites sum up to one.\n",
    "\n",
    "> **Exercise:** Implement a function `softmax` that performs the softmax calculation and returns probability distributions for each example in the batch. Note that you'll need to pay attention to the shapes when doing this. If you have a tensor `a` with shape `(64, 10)` and a tensor `b` with shape `(64,)`, doing `a/b` will give you an error because PyTorch will try to do the division across the columns (called broadcasting) but you'll get a size mismatch. The way to think about this is for each of the 64 examples, you only want to divide by one value, the sum in the denominator. So you need `b` to have a shape of `(64, 1)`. This way PyTorch will divide the 10 values in each row of `a` by the one value in each row of `b`. Pay attention to how you take the sum as well. You'll need to define the `dim` keyword in `torch.sum`. Setting `dim=0` takes the sum across the rows while `dim=1` takes the sum across the columns."
   ]
  },
  {
   "cell_type": "code",
   "execution_count": 12,
   "metadata": {},
   "outputs": [
    {
     "name": "stdout",
     "output_type": "stream",
     "text": [
      "torch.Size([64, 10])\n",
      "tensor([1.0000, 1.0000, 1.0000, 1.0000, 1.0000, 1.0000, 1.0000, 1.0000, 1.0000,\n",
      "        1.0000, 1.0000, 1.0000, 1.0000, 1.0000, 1.0000, 1.0000, 1.0000, 1.0000,\n",
      "        1.0000, 1.0000, 1.0000, 1.0000, 1.0000, 1.0000, 1.0000, 1.0000, 1.0000,\n",
      "        1.0000, 1.0000, 1.0000, 1.0000, 1.0000, 1.0000, 1.0000, 1.0000, 1.0000,\n",
      "        1.0000, 1.0000, 1.0000, 1.0000, 1.0000, 1.0000, 1.0000, 1.0000, 1.0000,\n",
      "        1.0000, 1.0000, 1.0000, 1.0000, 1.0000, 1.0000, 1.0000, 1.0000, 1.0000,\n",
      "        1.0000, 1.0000, 1.0000, 1.0000, 1.0000, 1.0000, 1.0000, 1.0000, 1.0000,\n",
      "        1.0000])\n"
     ]
    }
   ],
   "source": [
    "def softmax(x):\n",
    "    return torch.exp(-x)/torch.exp(-x).sum(dim=1).view(-1,1)\n",
    "    ## TODO: Implement the softmax function here\n",
    "    \n",
    "\n",
    "# Here, out should be the output of the network in the previous excercise with shape (64,10)\n",
    "probabilities = softmax(out)\n",
    "\n",
    "# Does it have the right shape? Should be (64, 10)\n",
    "print(probabilities.shape)\n",
    "# Does it sum to 1?\n",
    "print(probabilities.sum(dim=1))"
   ]
  },
  {
   "cell_type": "markdown",
   "metadata": {},
   "source": [
    "## Building networks with PyTorch\n",
    "\n",
    "PyTorch provides a module `nn` that makes building networks much simpler. Here I'll show you how to build the same one as above with 784 inputs, 256 hidden units, 10 output units and a softmax output."
   ]
  },
  {
   "cell_type": "code",
   "execution_count": null,
   "metadata": {
    "collapsed": true
   },
   "outputs": [],
   "source": [
    "from torch import nn"
   ]
  },
  {
   "cell_type": "code",
   "execution_count": null,
   "metadata": {
    "collapsed": true
   },
   "outputs": [],
   "source": [
    "class Network(nn.Module):\n",
    "    def __init__(self):\n",
    "        super().__init__()\n",
    "        \n",
    "        # Inputs to hidden layer linear transformation\n",
    "        self.hidden = nn.Linear(784, 256)\n",
    "        # Output layer, 10 units - one for each digit\n",
    "        self.output = nn.Linear(256, 10)\n",
    "        \n",
    "        # Define sigmoid activation and softmax output \n",
    "        self.sigmoid = nn.Sigmoid()\n",
    "        self.softmax = nn.Softmax(dim=1)\n",
    "        \n",
    "    def forward(self, x):\n",
    "        # Pass the input tensor through each of our operations\n",
    "        x = self.hidden(x)\n",
    "        x = self.sigmoid(x)\n",
    "        x = self.output(x)\n",
    "        x = self.softmax(x)\n",
    "        \n",
    "        return x"
   ]
  },
  {
   "cell_type": "markdown",
   "metadata": {},
   "source": [
    "Let's go through this bit by bit.\n",
    "\n",
    "```python\n",
    "class Network(nn.Module):\n",
    "```\n",
    "\n",
    "Here we're inheriting from `nn.Module`. Combined with `super().__init__()` this creates a class that tracks the architecture and provides a lot of useful methods and attributes. It is mandatory to inherit from `nn.Module` when you're creating a class for your network. The name of the class itself can be anything.\n",
    "\n",
    "```python\n",
    "self.hidden = nn.Linear(784, 256)\n",
    "```\n",
    "\n",
    "This line creates a module for a linear transformation, $x\\mathbf{W} + b$, with 784 inputs and 256 outputs and assigns it to `self.hidden`. The module automatically creates the weight and bias tensors which we'll use in the `forward` method. You can access the weight and bias tensors once the network (`net`) is created with `net.hidden.weight` and `net.hidden.bias`.\n",
    "\n",
    "```python\n",
    "self.output = nn.Linear(256, 10)\n",
    "```\n",
    "\n",
    "Similarly, this creates another linear transformation with 256 inputs and 10 outputs.\n",
    "\n",
    "```python\n",
    "self.sigmoid = nn.Sigmoid()\n",
    "self.softmax = nn.Softmax(dim=1)\n",
    "```\n",
    "\n",
    "Here I defined operations for the sigmoid activation and softmax output. Setting `dim=1` in `nn.Softmax(dim=1)` calculates softmax across the columns.\n",
    "\n",
    "```python\n",
    "def forward(self, x):\n",
    "```\n",
    "\n",
    "PyTorch networks created with `nn.Module` must have a `forward` method defined. It takes in a tensor `x` and passes it through the operations you defined in the `__init__` method.\n",
    "\n",
    "```python\n",
    "x = self.hidden(x)\n",
    "x = self.sigmoid(x)\n",
    "x = self.output(x)\n",
    "x = self.softmax(x)\n",
    "```\n",
    "\n",
    "Here the input tensor `x` is passed through each operation and reassigned to `x`. We can see that the input tensor goes through the hidden layer, then a sigmoid function, then the output layer, and finally the softmax function. It doesn't matter what you name the variables here, as long as the inputs and outputs of the operations match the network architecture you want to build. The order in which you define things in the `__init__` method doesn't matter, but you'll need to sequence the operations correctly in the `forward` method.\n",
    "\n",
    "Now we can create a `Network` object."
   ]
  },
  {
   "cell_type": "code",
   "execution_count": null,
   "metadata": {
    "collapsed": true
   },
   "outputs": [],
   "source": [
    "# Create the network and look at it's text representation\n",
    "model = Network()\n",
    "model"
   ]
  },
  {
   "cell_type": "markdown",
   "metadata": {},
   "source": [
    "You can define the network somewhat more concisely and clearly using the `torch.nn.functional` module. This is the most common way you'll see networks defined as many operations are simple element-wise functions. We normally import this module as `F`, `import torch.nn.functional as F`."
   ]
  },
  {
   "cell_type": "code",
   "execution_count": null,
   "metadata": {
    "collapsed": true
   },
   "outputs": [],
   "source": [
    "import torch.nn.functional as F\n",
    "\n",
    "class Network(nn.Module):\n",
    "    def __init__(self):\n",
    "        super().__init__()\n",
    "        # Inputs to hidden layer linear transformation\n",
    "        self.hidden = nn.Linear(784, 256)\n",
    "        # Output layer, 10 units - one for each digit\n",
    "        self.output = nn.Linear(256, 10)\n",
    "        \n",
    "    def forward(self, x):\n",
    "        # Hidden layer with sigmoid activation\n",
    "        x = F.sigmoid(self.hidden(x))\n",
    "        # Output layer with softmax activation\n",
    "        x = F.softmax(self.output(x), dim=1)\n",
    "        \n",
    "        return x"
   ]
  },
  {
   "cell_type": "markdown",
   "metadata": {},
   "source": [
    "### Activation functions\n",
    "\n",
    "So far we've only been looking at the sigmoid activation function, but in general any function can be used as an activation function. The only requirement is that for a network to approximate a non-linear function, the activation functions must be non-linear. Here are a few more examples of common activation functions: Tanh (hyperbolic tangent), and ReLU (rectified linear unit).\n",
    "\n",
    "<img src=\"assets/activation.png\" width=700px>\n",
    "\n",
    "In practice, the ReLU function is used almost exclusively as the activation function for hidden layers."
   ]
  },
  {
   "cell_type": "markdown",
   "metadata": {},
   "source": [
    "### Your Turn to Build a Network\n",
    "\n",
    "<img src=\"assets/mlp_mnist.png\" width=600px>\n",
    "\n",
    "> **Exercise:** Create a network with 784 input units, a hidden layer with 128 units and a ReLU activation, then a hidden layer with 64 units and a ReLU activation, and finally an output layer with a softmax activation as shown above. You can use a ReLU activation with the `nn.ReLU` module or `F.relu` function.\n",
    "\n",
    "It's good practice to name your layers by their type of network, for instance 'fc' to represent a fully-connected layer. As you code your solution, use `fc1`, `fc2`, and `fc3` as your layer names."
   ]
  },
  {
   "cell_type": "code",
   "execution_count": null,
   "metadata": {
    "collapsed": true,
    "scrolled": true
   },
   "outputs": [],
   "source": [
    "## Your solution here\n"
   ]
  },
  {
   "cell_type": "markdown",
   "metadata": {},
   "source": [
    "### Initializing weights and biases\n",
    "\n",
    "The weights and such are automatically initialized for you, but it's possible to customize how they are initialized. The weights and biases are tensors attached to the layer you defined, you can get them with `model.fc1.weight` for instance."
   ]
  },
  {
   "cell_type": "code",
   "execution_count": null,
   "metadata": {
    "collapsed": true
   },
   "outputs": [],
   "source": [
    "print(model.fc1.weight)\n",
    "print(model.fc1.bias)"
   ]
  },
  {
   "cell_type": "markdown",
   "metadata": {},
   "source": [
    "For custom initialization, we want to modify these tensors in place. These are actually autograd *Variables*, so we need to get back the actual tensors with `model.fc1.weight.data`. Once we have the tensors, we can fill them with zeros (for biases) or random normal values."
   ]
  },
  {
   "cell_type": "code",
   "execution_count": null,
   "metadata": {
    "collapsed": true
   },
   "outputs": [],
   "source": [
    "# Set biases to all zeros\n",
    "model.fc1.bias.data.fill_(0)"
   ]
  },
  {
   "cell_type": "code",
   "execution_count": null,
   "metadata": {
    "collapsed": true
   },
   "outputs": [],
   "source": [
    "# sample from random normal with standard dev = 0.01\n",
    "model.fc1.weight.data.normal_(std=0.01)"
   ]
  },
  {
   "cell_type": "markdown",
   "metadata": {},
   "source": [
    "### Forward pass\n",
    "\n",
    "Now that we have a network, let's see what happens when we pass in an image."
   ]
  },
  {
   "cell_type": "code",
   "execution_count": null,
   "metadata": {
    "collapsed": true
   },
   "outputs": [],
   "source": [
    "# Grab some data \n",
    "dataiter = iter(trainloader)\n",
    "images, labels = dataiter.next()\n",
    "\n",
    "# Resize images into a 1D vector, new shape is (batch size, color channels, image pixels) \n",
    "images.resize_(64, 1, 784)\n",
    "# or images.resize_(images.shape[0], 1, 784) to automatically get batch size\n",
    "\n",
    "# Forward pass through the network\n",
    "img_idx = 0\n",
    "ps = model.forward(images[img_idx,:])\n",
    "\n",
    "img = images[img_idx]\n",
    "helper.view_classify(img.view(1, 28, 28), ps)"
   ]
  },
  {
   "cell_type": "markdown",
   "metadata": {},
   "source": [
    "As you can see above, our network has basically no idea what this digit is. It's because we haven't trained it yet, all the weights are random!\n",
    "\n",
    "### Using `nn.Sequential`\n",
    "\n",
    "PyTorch provides a convenient way to build networks like this where a tensor is passed sequentially through operations, `nn.Sequential` ([documentation](https://pytorch.org/docs/master/nn.html#torch.nn.Sequential)). Using this to build the equivalent network:"
   ]
  },
  {
   "cell_type": "code",
   "execution_count": null,
   "metadata": {
    "collapsed": true
   },
   "outputs": [],
   "source": [
    "# Hyperparameters for our network\n",
    "input_size = 784\n",
    "hidden_sizes = [128, 64]\n",
    "output_size = 10\n",
    "\n",
    "# Build a feed-forward network\n",
    "model = nn.Sequential(nn.Linear(input_size, hidden_sizes[0]),\n",
    "                      nn.ReLU(),\n",
    "                      nn.Linear(hidden_sizes[0], hidden_sizes[1]),\n",
    "                      nn.ReLU(),\n",
    "                      nn.Linear(hidden_sizes[1], output_size),\n",
    "                      nn.Softmax(dim=1))\n",
    "print(model)\n",
    "\n",
    "# Forward pass through the network and display output\n",
    "images, labels = next(iter(trainloader))\n",
    "images.resize_(images.shape[0], 1, 784)\n",
    "ps = model.forward(images[0,:])\n",
    "helper.view_classify(images[0].view(1, 28, 28), ps)"
   ]
  },
  {
   "cell_type": "markdown",
   "metadata": {},
   "source": [
    "Here our model is the same as before: 784 input units, a hidden layer with 128 units, ReLU activation, 64 unit hidden layer, another ReLU, then the output layer with 10 units, and the softmax output.\n",
    "\n",
    "The operations are available by passing in the appropriate index. For example, if you want to get first Linear operation and look at the weights, you'd use `model[0]`."
   ]
  },
  {
   "cell_type": "code",
   "execution_count": null,
   "metadata": {
    "collapsed": true
   },
   "outputs": [],
   "source": [
    "print(model[0])\n",
    "model[0].weight"
   ]
  },
  {
   "cell_type": "markdown",
   "metadata": {},
   "source": [
    "You can also pass in an `OrderedDict` to name the individual layers and operations, instead of using incremental integers. Note that dictionary keys must be unique, so _each operation must have a different name_."
   ]
  },
  {
   "cell_type": "code",
   "execution_count": null,
   "metadata": {
    "collapsed": true
   },
   "outputs": [],
   "source": [
    "from collections import OrderedDict\n",
    "model = nn.Sequential(OrderedDict([\n",
    "                      ('fc1', nn.Linear(input_size, hidden_sizes[0])),\n",
    "                      ('relu1', nn.ReLU()),\n",
    "                      ('fc2', nn.Linear(hidden_sizes[0], hidden_sizes[1])),\n",
    "                      ('relu2', nn.ReLU()),\n",
    "                      ('output', nn.Linear(hidden_sizes[1], output_size)),\n",
    "                      ('softmax', nn.Softmax(dim=1))]))\n",
    "model"
   ]
  },
  {
   "cell_type": "markdown",
   "metadata": {},
   "source": [
    "Now you can access layers either by integer or the name"
   ]
  },
  {
   "cell_type": "code",
   "execution_count": null,
   "metadata": {
    "collapsed": true
   },
   "outputs": [],
   "source": [
    "print(model[0])\n",
    "print(model.fc1)"
   ]
  },
  {
   "cell_type": "markdown",
   "metadata": {},
   "source": [
    "In the next notebook, we'll see how we can train a neural network to accuractly predict the numbers appearing in the MNIST images."
   ]
  }
 ],
 "metadata": {
  "kernelspec": {
   "display_name": "Python 3",
   "language": "python",
   "name": "python3"
  },
  "language_info": {
   "codemirror_mode": {
    "name": "ipython",
    "version": 3
   },
   "file_extension": ".py",
   "mimetype": "text/x-python",
   "name": "python",
   "nbconvert_exporter": "python",
   "pygments_lexer": "ipython3",
   "version": "3.7.2"
  }
 },
 "nbformat": 4,
 "nbformat_minor": 2
}
